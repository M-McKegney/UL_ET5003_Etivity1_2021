{
  "nbformat": 4,
  "nbformat_minor": 0,
  "metadata": {
    "colab": {
      "name": "ET5003_Etivity1_MichaelMcKegney_20149743.ipynb",
      "provenance": [],
      "collapsed_sections": [],
      "include_colab_link": true
    },
    "kernelspec": {
      "name": "python3",
      "display_name": "Python 3"
    },
    "language_info": {
      "name": "python"
    }
  },
  "cells": [
    {
      "cell_type": "markdown",
      "metadata": {
        "id": "view-in-github",
        "colab_type": "text"
      },
      "source": [
        "<a href=\"https://colab.research.google.com/github/M-McKegney/UL_ET5003_Etivity1_2021/blob/main/ET5003_Etivity1_MichaelMcKegney_20149743.ipynb\" target=\"_parent\"><img src=\"https://colab.research.google.com/assets/colab-badge.svg\" alt=\"Open In Colab\"/></a>"
      ]
    },
    {
      "cell_type": "markdown",
      "metadata": {
        "id": "jxfOFFoUd9i7"
      },
      "source": [
        "# **Student Name: Michael McKegney**\n",
        "\n",
        "# **Student ID: 20149743**"
      ]
    },
    {
      "cell_type": "markdown",
      "metadata": {
        "id": "jxK1_8f1dvrc"
      },
      "source": [
        "<div>\n",
        "<img src=\"https://drive.google.com/uc?export=view&id=1vK33e_EqaHgBHcbRV_m38hx6IkG0blK_\" width=\"350\"/>\n",
        "</div> \n",
        "\n",
        "#**Artificial Intelligence - MSc**\n",
        "ET5003 - MACHINE LEARNING APPLICATIONS \n",
        "\n",
        "###Instructor: Enrique Naredo\n",
        "###ET5003_Etivity-1"
      ]
    },
    {
      "cell_type": "code",
      "metadata": {
        "id": "LqXD_IwUQuBF",
        "cellView": "form"
      },
      "source": [
        "#@title Current Date\n",
        "Today = '2021-09-19' #@param {type:\"date\"}\n"
      ],
      "execution_count": 8,
      "outputs": []
    },
    {
      "cell_type": "code",
      "metadata": {
        "id": "uzDKau31OjVO",
        "cellView": "form"
      },
      "source": [
        "#@markdown ---\n",
        "#@markdown ### Enter your details here:\n",
        "Student_ID = \"20149743\" #@param {type:\"string\"}\n",
        "Student_full_name = \"Michael McKegney\" #@param {type:\"string\"}\n",
        "#@markdown ---"
      ],
      "execution_count": 9,
      "outputs": []
    },
    {
      "cell_type": "code",
      "metadata": {
        "id": "r39xGZckTpKx"
      },
      "source": [
        "#@title Notebook information\n",
        "Notebook_type = \"Etivity\" #@param [\"Example\", \"Lab\", \"Practice\", \"Etivity\", \"Assignment\", \"Exam\"]\n",
        "Version = \"Draft\" #@param [\"Draft\", \"Final\"] {type:\"raw\"}\n",
        "Submission = False #@param {type:\"boolean\"}"
      ],
      "execution_count": 10,
      "outputs": []
    },
    {
      "cell_type": "markdown",
      "metadata": {
        "id": "f6-b6tAe90ng"
      },
      "source": [
        "# **Introduction:**\n",
        "\n",
        "The purpose of Etivity 1 is to implement a general-recipe multinomial logistic classifier and Bayesian multinomial logistic classifier.\n",
        "\n",
        "The classifiers are used on the MNIST dataset and their performance is compared.\n",
        "\n",
        "The provided task information is stated below."
      ]
    },
    {
      "cell_type": "markdown",
      "metadata": {
        "id": "ailycCq5epj2"
      },
      "source": [
        "## Task"
      ]
    },
    {
      "cell_type": "markdown",
      "metadata": {
        "id": "a-yNAxhUemjM"
      },
      "source": [
        "You have to extend the code to manage any arbitrary number of classes, in other words you have to implement a general-recipe multinomial logistic classifier and Bayesian multinomial logistic classifier.\n",
        "\n",
        "You must then select  3 digits at random and perform  the following task. \n",
        "\n",
        "1. Your goal is to use Bayesian multinomial logistic regression (as in the road-sign notebook) to solve this classification problem. \n",
        "\n",
        "2. You can downsize the training dataset (e.g., 40% training and 60%testing) if the computation of the posterior takes too much time in your computer.\n",
        "\n",
        "3. Use the posterior uncertainty to detect the instances (digits) in the test set that are hard to classify and remove them from the test-set.\n",
        "\n",
        "4. Then you need to compute again the accuracy of the general-recipe logistic regression on the remaining (non-difficult) instances and comment on the result.\n",
        "\n",
        "5. In practice, the task is to use uncertainty estimation to detect the difficult instances in the test-set. This is equivalent to refuse to classify all high-uncertainty instances or, in other words, when we are uncertain we say \"I don't know\" and we do not return any class. In this way, you will learn how uncertainty can be used to make safer decisions, by detecting the instances that are difficult to classify.\n"
      ]
    },
    {
      "cell_type": "markdown",
      "metadata": {
        "id": "VWP2VKHOAY9V"
      },
      "source": [
        "# **Dataset Information:**\n",
        "\n",
        "The MNIST database  is a dataset of handwritten digits that has been and is extensively used in machine learning. There are $10$ classes, each image is $28\\times28$ pixels and, therefore, each input is $x_i\\in\\mathbb{R}^{784}$. \n",
        "\n",
        "There is 60,000 images in the training set and 10,000 images in the test set.\n",
        "\n",
        "The images are in grayscale and each pixel is represented by an 8-bit integer from 0 to 255. The images represent the digits '0' to '9'.\n",
        "\n",
        "The data was sourced from Sulis but can also be found at the following website:\n",
        "https://www.kaggle.com/oddrationale/mnist-in-csv "
      ]
    },
    {
      "cell_type": "markdown",
      "metadata": {
        "id": "nMRKRTQZe5fW"
      },
      "source": [
        "## Libraries"
      ]
    },
    {
      "cell_type": "code",
      "metadata": {
        "id": "IxusAui7AX_f"
      },
      "source": [
        "# Suppressing Warnings:\n",
        "import warnings\n",
        "warnings.filterwarnings(\"ignore\")"
      ],
      "execution_count": 11,
      "outputs": []
    },
    {
      "cell_type": "code",
      "metadata": {
        "id": "MQOfGMQpdHSb"
      },
      "source": [
        "# Import libraries\n",
        "from sklearn.linear_model import LogisticRegression\n",
        "from sklearn.metrics import accuracy_score\n",
        "from sklearn.model_selection import train_test_split\n",
        "import scipy.optimize as optimize\n",
        "from scipy.special import erf\n",
        "import pandas as pd\n",
        "import numpy as np\n",
        "import seaborn as sns\n",
        "from tqdm import tqdm\n",
        "from skimage.io import imread, imshow\n",
        "import matplotlib.image as mpimg\n",
        "import matplotlib.pyplot as plt\n",
        "import matplotlib\n",
        "%matplotlib inline\n",
        "import arviz as az\n",
        "from scipy.io import loadmat\n",
        "import pymc3 as pm\n",
        "import random\n",
        "from IPython.display import HTML\n",
        "import pickle\n",
        "import theano as tt\n",
        "import cv2\n",
        "from sklearn.utils import shuffle\n",
        "from skimage.color import rgb2gray"
      ],
      "execution_count": 12,
      "outputs": []
    },
    {
      "cell_type": "code",
      "metadata": {
        "id": "P5-qMSjpAQ-9"
      },
      "source": [
        "# Setting a seed:\n",
        "np.random.seed(123)"
      ],
      "execution_count": 13,
      "outputs": []
    },
    {
      "cell_type": "markdown",
      "metadata": {
        "id": "r4hSuwkUfVQb"
      },
      "source": [
        "## Read in the dataset"
      ]
    },
    {
      "cell_type": "markdown",
      "metadata": {
        "id": "A2w7p5R2gUaw"
      },
      "source": [
        "Be careful with the 'Path' location shown below i.e. make sure it is pointing to where you store the data for Etivity 1!\n",
        "\n",
        "The following code is being used to determine if a Jupyter Notebook or Google Colab environment is being used to load the MNIST dataset.\n",
        "\n",
        "The majority of the development work for this Etivity was done in Google Colab due to the runtime differences."
      ]
    },
    {
      "cell_type": "code",
      "metadata": {
        "colab": {
          "base_uri": "https://localhost:8080/"
        },
        "id": "kRD1Buy0ikfg",
        "outputId": "03ba6652-d0de-49c0-b7dd-82d6f7359dd6"
      },
      "source": [
        "# Checking if you are using Google Colab.\n",
        "\n",
        "RunningInCOLAB = 'google.colab' in str(get_ipython())\n",
        "\n",
        "if RunningInCOLAB:\n",
        "    from google.colab import drive\n",
        "    drive.mount('/content/drive')\n",
        "    \n",
        "    # paste the path here, keep quotation marks and the trailing slash\n",
        "    Path = '/content/drive/MyDrive/UL_Colab_Files/ET5003/Etivity1/'\n",
        "    \n",
        "else:\n",
        "    \n",
        "    Path = './Etivity1/'"
      ],
      "execution_count": 14,
      "outputs": [
        {
          "output_type": "stream",
          "name": "stdout",
          "text": [
            "Drive already mounted at /content/drive; to attempt to forcibly remount, call drive.mount(\"/content/drive\", force_remount=True).\n"
          ]
        }
      ]
    },
    {
      "cell_type": "code",
      "metadata": {
        "colab": {
          "base_uri": "https://localhost:8080/"
        },
        "id": "g4rCnS4vdHSd",
        "outputId": "b25edaef-3cc1-4d94-f27d-bd76c5f5282d"
      },
      "source": [
        "\n",
        "# MNIST Data\n",
        "train_data = Path + 'mnist_train.csv'\n",
        "test_data = Path + 'mnist_test.csv'\n",
        "\n",
        "\n",
        "# train data\n",
        "df_train = pd.read_csv(train_data)\n",
        "X_train = df_train.drop(\"label\",axis=1).values\n",
        "y_train = df_train.label.values\n",
        "#print(X_train.shape)\n",
        "\n",
        "# test data\n",
        "df_test = pd.read_csv(test_data)\n",
        "X_test = df_test.drop(\"label\",axis=1).values\n",
        "y_test = df_test.label.values\n",
        "#print(X_test.shape)\n",
        "\n",
        "# Print out dataset information.\n",
        "print('\\n')\n",
        "print('X_train.shape: ', X_train.shape)\n",
        "print('y_train.shape: ', y_train.shape)\n",
        "print('\\n')\n",
        "print('X_test.shape: ', X_test.shape)\n",
        "print('y_test.shape: ', y_test.shape)"
      ],
      "execution_count": 15,
      "outputs": [
        {
          "output_type": "stream",
          "name": "stdout",
          "text": [
            "\n",
            "\n",
            "X_train.shape:  (60000, 784)\n",
            "y_train.shape:  (60000,)\n",
            "\n",
            "\n",
            "X_test.shape:  (10000, 784)\n",
            "y_test.shape:  (10000,)\n"
          ]
        }
      ]
    },
    {
      "cell_type": "markdown",
      "metadata": {
        "id": "k7lOv2B1UhlN"
      },
      "source": [
        "As all pixel values range from 0 to 255, by dividing by 255 each value gets 'normalised' to the range 0 to 1."
      ]
    },
    {
      "cell_type": "code",
      "metadata": {
        "colab": {
          "base_uri": "https://localhost:8080/"
        },
        "id": "O2ubJ_WoAqBh",
        "outputId": "89ce1fea-c8c2-4aa3-9a85-87f553e09bfe"
      },
      "source": [
        "# Normalizing the Inputs:\n",
        "X_train = X_train/255\n",
        "X_test = X_test/255\n",
        "\n",
        "# Printing the new input range of values:\n",
        "minv = np.min(X_train)\n",
        "maxv = np.max(X_train)\n",
        "print(minv,maxv)"
      ],
      "execution_count": 16,
      "outputs": [
        {
          "output_type": "stream",
          "name": "stdout",
          "text": [
            "0.0 1.0\n"
          ]
        }
      ]
    },
    {
      "cell_type": "markdown",
      "metadata": {
        "id": "SR6HpkWndHSe"
      },
      "source": [
        "### Description of Data:"
      ]
    },
    {
      "cell_type": "code",
      "metadata": {
        "colab": {
          "base_uri": "https://localhost:8080/"
        },
        "id": "sibN1Vv1dHSf",
        "outputId": "49c23bb0-42b8-4551-9808-ae375f3aeef0"
      },
      "source": [
        "# Number of examples\n",
        "n_train =  len(X_train)\n",
        "n_test =  len(X_test)\n",
        "\n",
        "# Image shape.\n",
        "image_shape = X_train.shape[1]\n",
        "\n",
        "# unique classes/labels in the training dataset.\n",
        "alltotal = set(y_train)\n",
        "n_classes = len(alltotal)\n",
        "\n",
        "print(\"Number of Training examples =\", n_train)\n",
        "print(\"Number of Test examples =\", n_test)\n",
        "print(\"Image input shape =\", image_shape)\n",
        "print(\"Number of classes =\", n_classes)"
      ],
      "execution_count": 17,
      "outputs": [
        {
          "output_type": "stream",
          "name": "stdout",
          "text": [
            "Number of Training examples = 60000\n",
            "Number of Test examples = 10000\n",
            "Image input shape = 784\n",
            "Number of classes = 10\n"
          ]
        }
      ]
    },
    {
      "cell_type": "markdown",
      "metadata": {
        "id": "6HQDSvrRKZF6"
      },
      "source": [
        "### Class Distribution:\n",
        "\n",
        "Plot a histogram which displays how many of each digit '0' to '9' is present in the training data."
      ]
    },
    {
      "cell_type": "code",
      "metadata": {
        "id": "XG8GdlpBKdCt",
        "colab": {
          "base_uri": "https://localhost:8080/",
          "height": 486
        },
        "outputId": "d4bb6df1-a62d-4e06-e5bd-2527658e3f49"
      },
      "source": [
        "fig, ax = plt.subplots(figsize=(10,7.5))\n",
        "ind = np.arange(n_classes)\n",
        "\n",
        "n, bins, patches = ax.hist(y_train, n_classes)\n",
        "ax.set_xlabel('classes')\n",
        "ax.set_ylabel('counts')\n",
        "ax.set_title(r'Histogram of Digit images')\n",
        "plt.show()"
      ],
      "execution_count": 18,
      "outputs": [
        {
          "output_type": "display_data",
          "data": {
            "image/png": "[encoded data removed]",
            "text/plain": [
              "<Figure size 720x540 with 1 Axes>"
            ]
          },
          "metadata": {
            "needs_background": "light"
          }
        }
      ]
    },
    {
      "cell_type": "markdown",
      "metadata": {
        "id": "Fd6cPhPuBOMt"
      },
      "source": [
        "# **Method:**"
      ]
    },
    {
      "cell_type": "markdown",
      "metadata": {
        "id": "EyLWw3nsLCtk"
      },
      "source": [
        "## Downsampling"
      ]
    },
    {
      "cell_type": "markdown",
      "metadata": {
        "id": "2U1lFEwhLKBf"
      },
      "source": [
        "### Randomly selecting 3 of the 10 Digit Classes"
      ]
    },
    {
      "cell_type": "code",
      "metadata": {
        "id": "VQBz4PROgOhX"
      },
      "source": [
        "\n",
        "# Convert the set 'alltotal' to a list.\n",
        "list_of_classes = list(alltotal)\n"
      ],
      "execution_count": 19,
      "outputs": []
    },
    {
      "cell_type": "code",
      "metadata": {
        "id": "0EeRZZWdLRPT",
        "colab": {
          "base_uri": "https://localhost:8080/"
        },
        "outputId": "e0a8d535-b78f-4034-a7dd-694b37972b16"
      },
      "source": [
        "# We select the number of Classes we want:\n",
        "n_classes = 3                                                               # Being set to 3 for now.\n",
        "\n",
        "# Empty list to append the random digit classes we select:\n",
        "classes = []                                                                \n",
        "\n",
        "#classes = random.sample(population=list_of_classes, k=n_classes)           \n",
        "\n",
        "# We select 3 digits at random and make sure they are unique:\n",
        "while len(classes) < n_classes:                                             \n",
        "    \n",
        "    # Randomly drawing a digit from 0-9:\n",
        "    num2choose = np.random.randint(0,10)\n",
        "\n",
        "    label = num2choose                                                      \n",
        "\n",
        "    # Append the digit if it's not already in our list of classes:\n",
        "    if label not in classes: \n",
        "        classes.append(num2choose)\n",
        "        \n",
        "        \n",
        "# Sorting the Classes smallest to largest    \n",
        "classes.sort()                                                              \n",
        "# print classes selected\n",
        "classes"
      ],
      "execution_count": 20,
      "outputs": [
        {
          "output_type": "execute_result",
          "data": {
            "text/plain": [
              "[1, 2, 6]"
            ]
          },
          "metadata": {},
          "execution_count": 20
        }
      ]
    },
    {
      "cell_type": "markdown",
      "metadata": {
        "id": "ewyF9f-RWoLc"
      },
      "source": [
        "Choosing to retain 1500 instances of each digit."
      ]
    },
    {
      "cell_type": "code",
      "metadata": {
        "id": "2M8R5NqKMB_M"
      },
      "source": [
        "# The number of instances we'll keep for each of our 3 digits:\n",
        "inst_class = 1500                                                           # Random choice for now\n",
        "\n",
        "inputs = []                                                                 # Defining as a blank list.\n",
        "labels = []                                                                 # Defining as a blank list.\n",
        "\n",
        "# Loop to randomly sample the instances for each digit:\n",
        "for r in classes:\n",
        "    imgs = X_train[np.where(y_train==r)[0],:]\n",
        "    inputs.append(imgs[np.random.permutation(imgs.shape[0]),:][0:inst_class,:])\n",
        "    labels.append(np.ones(inst_class)*r)\n",
        "    \n",
        "# Shaping inputs and labels in the right format    \n",
        "X_train = np.vstack(inputs).astype(np.float64)\n",
        "y_train = np.hstack(labels)"
      ],
      "execution_count": 21,
      "outputs": []
    },
    {
      "cell_type": "code",
      "metadata": {
        "id": "AbsEDgl7uIQV"
      },
      "source": [
        "# DEBUG\n",
        "#X_train.shape\n",
        "#X_train\n",
        "#y_train.shape\n",
        "#y_train\n",
        "\n",
        "#print(type(X_train))"
      ],
      "execution_count": 22,
      "outputs": []
    },
    {
      "cell_type": "markdown",
      "metadata": {
        "id": "_6-YHrQQMicy"
      },
      "source": [
        "### New Classes Distribution\n",
        "\n",
        "Plot a histogram which displays how many of each randomly selected digit there is present."
      ]
    },
    {
      "cell_type": "code",
      "metadata": {
        "colab": {
          "base_uri": "https://localhost:8080/",
          "height": 486
        },
        "id": "X0PP0drTV7OQ",
        "outputId": "49e3d0e9-cdf6-4726-89b9-731acff268e2"
      },
      "source": [
        "fig, ax = plt.subplots(figsize=(10,7.5))\n",
        "ind = np.arange(n_classes)\n",
        "\n",
        "n, bins, patches = ax.hist(y_train, n_classes)\n",
        "ax.set_xlabel('classes')\n",
        "ax.set_ylabel('counts')\n",
        "ax.set_title(r'Histogram of Digit images')\n",
        "plt.show()"
      ],
      "execution_count": 23,
      "outputs": [
        {
          "output_type": "display_data",
          "data": {
            "image/png": "[encoded data removed]",
            "text/plain": [
              "<Figure size 720x540 with 1 Axes>"
            ]
          },
          "metadata": {
            "needs_background": "light"
          }
        }
      ]
    },
    {
      "cell_type": "code",
      "metadata": {
        "id": "eFgP4xugMvJm"
      },
      "source": [
        "# plot digits\n",
        "def plot_digits(instances, images_per_row=5, **options):\n",
        "    size = 28\n",
        "    images_per_row = min(len(instances), images_per_row)\n",
        "    images = [instance.reshape(size,size) for instance in instances]\n",
        "    n_rows = (len(instances) - 1) // images_per_row + 1\n",
        "    row_images = []\n",
        "    n_empty = n_rows * images_per_row - len(instances)\n",
        "    images.append(np.zeros((size, size * n_empty)))\n",
        "    for row in range(n_rows):\n",
        "        rimages = images[row * images_per_row : (row + 1) * images_per_row]\n",
        "        row_images.append(np.concatenate(rimages, axis=1))\n",
        "    image = np.concatenate(row_images, axis=0)\n",
        "    plt.imshow(image,  cmap='gist_yarg', **options)\n",
        "    plt.axis(\"off\")"
      ],
      "execution_count": 24,
      "outputs": []
    },
    {
      "cell_type": "markdown",
      "metadata": {
        "id": "iiBVRogAXJNu"
      },
      "source": [
        "Show a few instances from each digit."
      ]
    },
    {
      "cell_type": "code",
      "metadata": {
        "id": "0k1wjzZrZbag"
      },
      "source": [
        "#Debug\n",
        "\n",
        "#X_train.shape\n",
        "#y_train.shape"
      ],
      "execution_count": 25,
      "outputs": []
    },
    {
      "cell_type": "code",
      "metadata": {
        "id": "zeEG-LGOM4fJ",
        "colab": {
          "base_uri": "https://localhost:8080/",
          "height": 317
        },
        "outputId": "66f7741a-6911-4c89-964c-6fce96374dbb"
      },
      "source": [
        "# num_inst_to_plot = 10\n",
        "\n",
        "# loop_counter = 0\n",
        "\n",
        "# for each_class in classes:\n",
        "#   plt.figure(figsize=(8,8))\n",
        "#   plot_digits(X_train[(loop_counter*inst_class):((loop_counter*inst_class)+num_inst_to_plot)],10)\n",
        "#   plt.show\n",
        "#   loop_counter += 1\n",
        "\n",
        "\n",
        "# Show a few instances from each Digit:\n",
        "plt.figure(figsize=(7.5,7.5))\n",
        "\n",
        "# Selecting a few label indices from each of the 3 classes to show:\n",
        "label_indices = np.random.choice(len(X_train),15,replace=False)\n",
        "\n",
        "# Plotting 'original' image\n",
        "plot_digits(X_train[label_indices,:],images_per_row=5)\n",
        "plt.title(\"Original\", fontsize=14)\n"
      ],
      "execution_count": 26,
      "outputs": [
        {
          "output_type": "execute_result",
          "data": {
            "text/plain": [
              "Text(0.5, 1.0, 'Original')"
            ]
          },
          "metadata": {},
          "execution_count": 26
        },
        {
          "output_type": "display_data",
          "data": {
            "image/png": "[encoded data removed]",
            "text/plain": [
              "<Figure size 540x540 with 1 Axes>"
            ]
          },
          "metadata": {
            "needs_background": "light"
          }
        }
      ]
    },
    {
      "cell_type": "markdown",
      "metadata": {
        "id": "FsAOnOcNNG_V"
      },
      "source": [
        "###  Splitting the Training data into both Training and Validation Sets:\n",
        "\n",
        "- Although this is the Training set, we can still set aside some samples (for instance 20%) of the 1,500 instances we have for Model Validation purposes.\n",
        "\n",
        "\n",
        "- With that Validation Set, we can then select the amount of Uncertainty we are happy with from our Model to use out of sample on other unseen data.\n",
        "\n",
        "\n",
        "- We can then test out how well our decision performs on the Test Set that we put aside earlier."
      ]
    },
    {
      "cell_type": "code",
      "metadata": {
        "id": "YdsmyVAtPXNn"
      },
      "source": [
        "### Split tha dataset in training and validation sets\n",
        "# choose the fraction of your validation data from the training set\n",
        "w = 0.20\n",
        "X_train, X_val, y_train, y_val = train_test_split(X_train, y_train, test_size=w, random_state=0)\n",
        " \n",
        "# Shuffling the training instaces around to randomize the order of inputs to the model:\n",
        "X_train, y_train = shuffle(X_train, y_train)"
      ],
      "execution_count": 27,
      "outputs": []
    },
    {
      "cell_type": "code",
      "metadata": {
        "id": "qXwJwP0iPxhi",
        "colab": {
          "base_uri": "https://localhost:8080/"
        },
        "outputId": "05f3e2a9-e354-43b7-a89f-2576daac44d1"
      },
      "source": [
        "# print shape of your validation and training set\n",
        "\n",
        "\n",
        "print('X_train: ', X_train.shape, '\\nX_val: ', X_val.shape, '\\ny_train: ', y_train.shape, '\\ny_val: ', y_val.shape)\n"
      ],
      "execution_count": 28,
      "outputs": [
        {
          "output_type": "stream",
          "name": "stdout",
          "text": [
            "X_train:  (3600, 784) \n",
            "X_val:  (900, 784) \n",
            "y_train:  (3600,) \n",
            "y_val:  (900,)\n"
          ]
        }
      ]
    },
    {
      "cell_type": "markdown",
      "metadata": {
        "id": "aOroY1QoP8DY"
      },
      "source": [
        "### Encoding the Class labels for the Probabilistic ML Model:\n",
        "\n",
        "This is an example:\n",
        "\n",
        "- **[1,0,0]** for first digit\n",
        "- **[0,1,0]** for second digit\n",
        "- **[0,0,1]** for third digit"
      ]
    },
    {
      "cell_type": "markdown",
      "metadata": {
        "id": "rjUaqWTqQIcp"
      },
      "source": [
        "### General-Recipe ML"
      ]
    },
    {
      "cell_type": "markdown",
      "metadata": {
        "id": "1T3wsrdBdv3f"
      },
      "source": [
        "Transforming images into vectors before running multinomial logistic regression."
      ]
    },
    {
      "cell_type": "code",
      "metadata": {
        "colab": {
          "base_uri": "https://localhost:8080/"
        },
        "id": "ljMUPhp8NUKT",
        "outputId": "a16066e2-a7ce-4c91-fca8-370beccc4f65"
      },
      "source": [
        "\n",
        "# transform images into vectors  \n",
        "\n",
        "# Lines of code from the lab file.\n",
        "# X_trv = X_train.flatten().reshape(X_train.shape[0],X_train.shape[1]*X_train.shape[2])\n",
        "# X_valv = X_val.flatten().reshape(X_val.shape[0],X_train.shape[1]*X_train.shape[2])\n",
        "\n",
        "\n",
        "X_trv = X_train.flatten().reshape(X_train.shape[0],X_train.shape[1])\n",
        "X_valv = X_val.flatten().reshape(X_val.shape[0],X_train.shape[1])\n",
        "\n",
        "y_tr = y_train.copy()\n",
        "\n",
        "print(X_trv.shape)\n",
        "print(X_valv.shape)\n",
        "print(y_tr.shape)\n",
        "print(y_val.shape)"
      ],
      "execution_count": 29,
      "outputs": [
        {
          "output_type": "stream",
          "name": "stdout",
          "text": [
            "(3600, 784)\n",
            "(900, 784)\n",
            "(3600,)\n",
            "(900,)\n"
          ]
        }
      ]
    },
    {
      "cell_type": "code",
      "metadata": {
        "id": "QzgdivxfQNv5",
        "colab": {
          "base_uri": "https://localhost:8080/"
        },
        "outputId": "60f2930c-7648-480d-e08e-325da218e78d"
      },
      "source": [
        "# model\n",
        "model_log = LogisticRegression(random_state=0, max_iter=2000, C=100, solver='lbfgs', multi_class='multinomial').fit(X_trv, y_tr)      \n",
        "\n",
        "# Classification:\n",
        "y_pred_logi = model_log.predict(X_valv)                           \n",
        "y_pred_logi_prob = model_log.predict_proba(X_valv)               \n",
        "\n",
        "# Maybe taking the maximum probability \n",
        "# in any of the classes for each observation\n",
        "prob_classmax = np.max(y_pred_logi_prob,axis=1)                  \n",
        "\n",
        "# Computing the Accuracy:\n",
        "accuracy_score(y_pred_logi, y_val)"
      ],
      "execution_count": 30,
      "outputs": [
        {
          "output_type": "execute_result",
          "data": {
            "text/plain": [
              "0.9766666666666667"
            ]
          },
          "metadata": {},
          "execution_count": 30
        }
      ]
    },
    {
      "cell_type": "code",
      "metadata": {
        "id": "4DTuPjwxMQng"
      },
      "source": [
        "# Only commenting out to avoid long print out.\n",
        "\n",
        "#np.sort(prob_classmax)"
      ],
      "execution_count": 31,
      "outputs": []
    },
    {
      "cell_type": "code",
      "metadata": {
        "colab": {
          "base_uri": "https://localhost:8080/"
        },
        "id": "k05GKZrfMQXv",
        "outputId": "adba4f0d-6691-430d-ab3f-e8d77927c286"
      },
      "source": [
        "# Probability of general-recipe logistic regression in wrong instances.\n",
        "prob_classmax[y_pred_logi!=y_val]"
      ],
      "execution_count": 32,
      "outputs": [
        {
          "output_type": "execute_result",
          "data": {
            "text/plain": [
              "array([0.99744985, 0.52198065, 0.99966378, 0.86669845, 0.97683286,\n",
              "       0.87065449, 0.99787179, 0.5057352 , 0.98862742, 0.90960885,\n",
              "       0.99999999, 0.99474148, 0.7824442 , 0.99333234, 0.98671087,\n",
              "       0.91243323, 0.88963716, 0.99922409, 1.        , 0.99998343,\n",
              "       0.82583129])"
            ]
          },
          "metadata": {},
          "execution_count": 32
        }
      ]
    },
    {
      "cell_type": "code",
      "metadata": {
        "id": "iHP0rASTYjqD"
      },
      "source": [
        "# np.array(y_pred_logi)"
      ],
      "execution_count": 33,
      "outputs": []
    },
    {
      "cell_type": "markdown",
      "metadata": {
        "id": "3uQG6JsOQxH5"
      },
      "source": [
        "### Probabilistic Multinomial Logistic Regression:"
      ]
    },
    {
      "cell_type": "markdown",
      "metadata": {
        "id": "irlmUNw7Q5YL"
      },
      "source": [
        "The Multinomial Logistic Regression has some parameters:\n",
        "\n",
        "- $\\alpha$, which is the intercept term:\n",
        "\n",
        "- $\\beta$, which is a vector of coefficients which give a weighting to the importance of each input feature:\n"
      ]
    },
    {
      "cell_type": "code",
      "metadata": {
        "id": "3fnYiD1CjlIq"
      },
      "source": [
        "import sklearn.preprocessing\n",
        "## We use LabelBinarizer to transfor classes into counts\n",
        "# neg_label=0, pos_label=1 \n",
        "y_2_bin = sklearn.preprocessing.LabelBinarizer().fit_transform(y_tr.reshape(-1,1))\n",
        "nf = X_trv.shape[1]\n",
        "# number of classes\n",
        "nc = len(classes)\n",
        "# floatX = float32\n",
        "floatX = tt.config.floatX\n",
        "\n",
        "init_b = np.random.randn(nf, nc-1).astype(floatX)\n",
        "init_a = np.random.randn(nc-1).astype(floatX)\n",
        "\n",
        "\n",
        "with pm.Model() as multi_logistic:\n",
        "    # Prior\n",
        "    β = pm.Normal('beta', 0, sigma=100, shape=(nf, nc-1), testval=init_b)\n",
        "    α = pm.Normal('alpha', 0, sigma=100, shape=(nc-1,), testval=init_a)\n",
        "    \n",
        "    # we need to consider nc-1 features because the model is not identifiable\n",
        "    # the softmax turns a vector into a probability that sums up to one\n",
        "    # therefore we add zeros to go back to dimension nc\n",
        "    # so that softmax returns a vector of dimension nc\n",
        "    β1  = tt.tensor.concatenate([np.zeros((nf,1)),β ],axis=1)\n",
        "    α1  = tt.tensor.concatenate([[0],α ],)\n",
        "    \n",
        "    # Likelihood\n",
        "    mu = pm.math.matrix_dot(X_trv,β1) + α1\n",
        "    # It doesn't work if the problem is binary\n",
        "    p = tt.tensor.nnet.nnet.softmax(mu)\n",
        "    observed = pm.Multinomial('likelihood', p=p, n=1, observed=y_2_bin)\n",
        "\n",
        "\n"
      ],
      "execution_count": 34,
      "outputs": []
    },
    {
      "cell_type": "code",
      "metadata": {
        "id": "9UJwo4SEOMzi",
        "colab": {
          "base_uri": "https://localhost:8080/"
        },
        "outputId": "812fd356-e20d-4324-c538-cf2713e91242"
      },
      "source": [
        "y_2_bin\n"
      ],
      "execution_count": 35,
      "outputs": [
        {
          "output_type": "execute_result",
          "data": {
            "text/plain": [
              "array([[0, 1, 0],\n",
              "       [0, 0, 1],\n",
              "       [0, 0, 1],\n",
              "       ...,\n",
              "       [0, 0, 1],\n",
              "       [1, 0, 0],\n",
              "       [1, 0, 0]])"
            ]
          },
          "metadata": {},
          "execution_count": 35
        }
      ]
    },
    {
      "cell_type": "code",
      "metadata": {
        "id": "xLfbb1ufjlIq",
        "colab": {
          "base_uri": "https://localhost:8080/",
          "height": 72
        },
        "outputId": "2453e7c4-d9a3-41fd-9529-776e6675e964"
      },
      "source": [
        "with multi_logistic:\n",
        "    #approx = pm.fit(300000, method='advi') # takes longer\n",
        "    approx = pm.fit(3000, method='advi')"
      ],
      "execution_count": 36,
      "outputs": [
        {
          "output_type": "stream",
          "name": "stderr",
          "text": [
            "WARNING (theano.tensor.blas): We did not find a dynamic library in the library_dir of the library we use for blas. If you use ATLAS, make sure to compile it with dynamics library.\n"
          ]
        },
        {
          "output_type": "display_data",
          "data": {
            "text/html": [
              "\n",
              "    <div>\n",
              "        <style>\n",
              "            /* Turns off some styling */\n",
              "            progress {\n",
              "                /* gets rid of default border in Firefox and Opera. */\n",
              "                border: none;\n",
              "                /* Needs to be in here for Safari polyfill so background images work as expected. */\n",
              "                background-size: auto;\n",
              "            }\n",
              "            .progress-bar-interrupted, .progress-bar-interrupted::-webkit-progress-bar {\n",
              "                background: #F44336;\n",
              "            }\n",
              "        </style>\n",
              "      <progress value='3000' class='' max='3000' style='width:300px; height:20px; vertical-align: middle;'></progress>\n",
              "      100.00% [3000/3000 00:55<00:00 Average Loss = 10,311]\n",
              "    </div>\n",
              "    "
            ],
            "text/plain": [
              "<IPython.core.display.HTML object>"
            ]
          },
          "metadata": {}
        },
        {
          "output_type": "stream",
          "name": "stderr",
          "text": [
            "Finished [100%]: Average Loss = 10,287\n"
          ]
        }
      ]
    },
    {
      "cell_type": "code",
      "metadata": {
        "id": "jGHaxwdljlIq",
        "colab": {
          "base_uri": "https://localhost:8080/",
          "height": 470
        },
        "outputId": "f9079353-1ac9-4553-f333-9bd262b4ab07"
      },
      "source": [
        "plt.figure(figsize=(10,7.5))\n",
        "plt.xlabel('Iterations')\n",
        "plt.ylabel('Loss')\n",
        "plt.plot(approx.hist)\n",
        "plt.show()"
      ],
      "execution_count": 37,
      "outputs": [
        {
          "output_type": "display_data",
          "data": {
            "image/png": "[encoded data removed]",
            "text/plain": [
              "<Figure size 720x540 with 1 Axes>"
            ]
          },
          "metadata": {
            "needs_background": "light"
          }
        }
      ]
    },
    {
      "cell_type": "code",
      "metadata": {
        "id": "jO6py8pnjlIr"
      },
      "source": [
        "dd = 300\n",
        "posterior = approx.sample(draws=dd)"
      ],
      "execution_count": 38,
      "outputs": []
    },
    {
      "cell_type": "code",
      "metadata": {
        "id": "YsIb_0aOjlIr",
        "colab": {
          "base_uri": "https://localhost:8080/",
          "height": 247
        },
        "outputId": "9d91547f-fce7-472e-94cd-033771fe4744"
      },
      "source": [
        "## The softmax function transforms each element of a collection by computing the exponential\n",
        "#  of each element divided by the sum of the exponentials of all the elements.\n",
        "from scipy.special import softmax\n",
        "\n",
        "#select an image in the test set\n",
        "i = 10 \n",
        "#i = random.randint(0, dd)\n",
        "\n",
        "#select a sample in the posterior\n",
        "s = 100 \n",
        "#s = random.randint(0, dd)\n",
        "\n",
        "\n",
        "beta  = np.hstack([np.zeros((nf,1)),  posterior['beta'][s,:] ])\n",
        "alpha = np.hstack([[0],  posterior['alpha'][s,:] ])\n",
        "\n",
        "# image = X_valv[i,:].reshape(32,32)\n",
        "image = X_valv[i,:].reshape(28,28)\n",
        "\n",
        "plt.figure(figsize=(2,2))\n",
        "plt.imshow(image,cmap=\"Greys_r\")\n",
        "np.set_printoptions(suppress=True)\n",
        "\n",
        "print(\"test image #\" + str(i))\n",
        "print(\"posterior sample #\" + str(s))\n",
        "print(\"true class=\", y_val[i])\n",
        "print(\"classes: \" + str(classes))\n",
        "print(\"estimated prob=\",softmax((np.array([X_valv[i,:].dot(beta) + alpha])))[0,:])"
      ],
      "execution_count": 39,
      "outputs": [
        {
          "output_type": "stream",
          "name": "stdout",
          "text": [
            "test image #10\n",
            "posterior sample #100\n",
            "true class= 2.0\n",
            "classes: [1, 2, 6]\n",
            "estimated prob= [0.00000003 0.99999997 0.        ]\n"
          ]
        },
        {
          "output_type": "display_data",
          "data": {
            "image/png": "[encoded data removed]",
            "text/plain": [
              "<Figure size 144x144 with 1 Axes>"
            ]
          },
          "metadata": {
            "needs_background": "light"
          }
        }
      ]
    },
    {
      "cell_type": "code",
      "metadata": {
        "id": "nEoqLyo6jlIr"
      },
      "source": [
        "# Bayesian prediction\n",
        "# return the class that has the highest posterior probability\n",
        "y_pred_Bayesian=[]\n",
        "\n",
        "for i in range(X_valv.shape[0]):\n",
        "    val=np.zeros((1,len(classes)))\n",
        "    \n",
        "    for s in range(posterior['beta'].shape[0]):\n",
        "        beta = np.hstack([np.zeros((nf,1)),  posterior['beta'][s,:] ])\n",
        "        alpha = np.hstack([[0],  posterior['alpha'][s,:] ])     \n",
        "        val = val + softmax((np.array([X_valv[i,:].dot(beta) + alpha])))\n",
        "    \n",
        "    mean_probability = val/posterior['beta'].shape[0]\n",
        "    y_pred_Bayesian.append( np.argmax(mean_probability))\n"
      ],
      "execution_count": 40,
      "outputs": []
    },
    {
      "cell_type": "code",
      "metadata": {
        "id": "mYBwhQYtYEfD",
        "colab": {
          "base_uri": "https://localhost:8080/"
        },
        "outputId": "40b8371e-1a28-44a4-a3cd-ddd27a2c6e92"
      },
      "source": [
        "print(y_pred_Bayesian)"
      ],
      "execution_count": 41,
      "outputs": [
        {
          "output_type": "stream",
          "name": "stdout",
          "text": [
            "[0, 1, 1, 2, 1, 1, 0, 0, 0, 0, 1, 2, 1, 0, 2, 1, 0, 2, 1, 1, 2, 1, 1, 2, 2, 1, 1, 0, 0, 0, 1, 2, 0, 0, 0, 0, 2, 0, 0, 0, 2, 0, 0, 2, 1, 0, 2, 1, 1, 1, 2, 1, 2, 2, 0, 2, 0, 2, 0, 2, 1, 2, 2, 0, 0, 2, 0, 1, 0, 2, 0, 2, 0, 2, 1, 1, 1, 1, 0, 0, 0, 2, 2, 1, 0, 2, 0, 0, 1, 2, 2, 0, 1, 2, 2, 0, 1, 0, 1, 2, 1, 1, 0, 1, 2, 2, 2, 0, 1, 1, 1, 2, 2, 2, 1, 0, 1, 2, 1, 2, 0, 1, 1, 1, 1, 2, 0, 2, 1, 2, 2, 1, 1, 0, 2, 2, 0, 2, 0, 2, 2, 2, 1, 1, 0, 0, 0, 2, 2, 2, 2, 1, 0, 2, 0, 2, 1, 1, 0, 2, 1, 0, 0, 0, 2, 2, 0, 2, 0, 1, 0, 1, 2, 1, 1, 1, 1, 2, 0, 0, 0, 1, 0, 1, 1, 2, 0, 0, 1, 1, 0, 2, 0, 1, 0, 1, 0, 0, 1, 0, 2, 1, 0, 0, 0, 1, 1, 1, 0, 1, 1, 0, 1, 0, 1, 1, 0, 0, 0, 0, 2, 0, 2, 1, 0, 1, 2, 1, 1, 0, 1, 0, 1, 2, 0, 1, 0, 1, 1, 1, 0, 1, 1, 2, 0, 0, 1, 1, 0, 2, 0, 0, 0, 0, 0, 1, 2, 1, 1, 2, 0, 0, 1, 1, 1, 2, 0, 2, 2, 2, 0, 1, 1, 0, 2, 0, 0, 2, 0, 0, 2, 0, 1, 1, 0, 1, 1, 1, 0, 2, 0, 2, 2, 2, 2, 1, 2, 2, 1, 0, 0, 1, 2, 1, 1, 2, 1, 0, 0, 0, 1, 2, 0, 2, 2, 1, 0, 2, 0, 2, 2, 0, 2, 0, 1, 0, 0, 0, 0, 2, 0, 0, 0, 0, 1, 0, 1, 0, 2, 0, 2, 0, 1, 1, 2, 2, 1, 0, 1, 1, 0, 1, 2, 1, 0, 1, 2, 1, 0, 2, 0, 0, 1, 1, 1, 2, 2, 0, 2, 2, 0, 2, 2, 0, 0, 2, 2, 0, 2, 2, 2, 1, 0, 0, 0, 0, 2, 2, 0, 0, 0, 2, 0, 2, 1, 2, 0, 2, 1, 1, 2, 1, 0, 2, 0, 1, 2, 2, 1, 2, 0, 0, 1, 2, 1, 2, 0, 2, 1, 2, 1, 2, 0, 0, 1, 2, 1, 2, 0, 2, 2, 0, 0, 1, 2, 0, 1, 2, 1, 0, 1, 1, 1, 1, 2, 0, 1, 2, 0, 1, 2, 2, 2, 2, 2, 2, 1, 2, 2, 2, 0, 2, 1, 2, 2, 1, 0, 2, 0, 1, 0, 2, 2, 2, 1, 1, 1, 2, 1, 2, 1, 0, 0, 0, 1, 1, 2, 2, 2, 0, 1, 0, 0, 2, 2, 1, 0, 2, 2, 1, 1, 2, 1, 0, 1, 2, 1, 1, 2, 0, 2, 2, 1, 1, 2, 0, 2, 2, 0, 2, 0, 1, 2, 0, 2, 1, 2, 2, 1, 1, 1, 2, 1, 0, 2, 0, 2, 1, 0, 2, 2, 0, 2, 2, 1, 1, 0, 2, 0, 0, 0, 2, 0, 1, 1, 2, 2, 1, 2, 0, 0, 0, 0, 0, 0, 2, 2, 2, 1, 0, 1, 1, 1, 2, 1, 2, 2, 2, 0, 0, 0, 1, 0, 2, 0, 1, 1, 0, 1, 2, 2, 0, 2, 1, 2, 2, 1, 0, 0, 2, 1, 0, 1, 2, 1, 2, 0, 0, 1, 0, 1, 1, 0, 0, 0, 2, 1, 0, 0, 0, 2, 1, 1, 1, 2, 2, 2, 2, 2, 0, 0, 2, 1, 0, 2, 2, 2, 1, 1, 1, 2, 2, 1, 0, 2, 0, 0, 2, 1, 2, 1, 2, 1, 2, 0, 2, 2, 1, 2, 2, 1, 2, 1, 1, 1, 2, 2, 1, 0, 2, 1, 1, 2, 2, 0, 2, 1, 0, 2, 0, 0, 0, 1, 1, 1, 0, 1, 0, 2, 0, 1, 1, 0, 2, 0, 0, 1, 0, 0, 1, 2, 0, 2, 1, 1, 0, 2, 1, 0, 0, 0, 0, 0, 1, 1, 0, 2, 2, 1, 1, 0, 1, 0, 2, 1, 1, 1, 1, 2, 0, 2, 0, 2, 2, 2, 1, 0, 1, 1, 2, 2, 2, 0, 1, 1, 2, 1, 1, 2, 1, 0, 0, 0, 2, 0, 0, 0, 0, 2, 1, 0, 2, 0, 1, 1, 1, 0, 0, 0, 1, 2, 2, 2, 1, 0, 2, 1, 1, 1, 0, 2, 0, 2, 2, 2, 2, 2, 2, 0, 1, 0, 0, 1, 2, 1, 1, 1, 1, 1, 2, 1, 0, 0, 1, 2, 1, 1, 1, 2, 2, 0, 0, 0, 2, 2, 0, 1, 0, 1, 0, 1, 1, 2, 0, 2, 2, 2, 2, 2, 2, 1, 0, 0, 1, 0, 2, 1, 2, 0, 1, 2, 0, 0, 1, 0, 0, 1, 1, 1, 2, 2, 0, 2, 0, 2, 2, 2, 2, 0, 2, 1, 2, 0, 2, 0, 2, 2, 1, 2, 0, 2, 1, 2, 1, 2, 2, 0, 1, 2, 1, 0, 1, 2, 1, 0, 0, 2, 2, 1, 0, 1, 2, 0, 1, 2, 2, 1, 2, 0, 0]\n"
          ]
        }
      ]
    },
    {
      "cell_type": "code",
      "metadata": {
        "id": "z5zM4NpqYWUP",
        "colab": {
          "base_uri": "https://localhost:8080/"
        },
        "outputId": "d295c45c-1e70-4461-bb43-74d95b47596a"
      },
      "source": [
        "# recall the classes we are using\n",
        "print(classes)"
      ],
      "execution_count": 42,
      "outputs": [
        {
          "output_type": "stream",
          "name": "stdout",
          "text": [
            "[1, 2, 6]\n"
          ]
        }
      ]
    },
    {
      "cell_type": "code",
      "metadata": {
        "id": "X59ZLa-wjlIr",
        "colab": {
          "base_uri": "https://localhost:8080/"
        },
        "outputId": "b972ffe8-23a0-4c6d-d619-a9823ecb5896"
      },
      "source": [
        "# prediction array (using classes)\n",
        "nn = 10 # just an example\n",
        "np.array(classes)[y_pred_Bayesian[0:nn]]"
      ],
      "execution_count": 43,
      "outputs": [
        {
          "output_type": "execute_result",
          "data": {
            "text/plain": [
              "array([1, 2, 2, 6, 2, 2, 1, 1, 1, 1])"
            ]
          },
          "metadata": {},
          "execution_count": 43
        }
      ]
    },
    {
      "cell_type": "code",
      "metadata": {
        "id": "AmOq8282jlIr",
        "colab": {
          "base_uri": "https://localhost:8080/"
        },
        "outputId": "a7eb2c70-4b0d-4feb-87da-6c99c69241e7"
      },
      "source": [
        "# using validation: y_val\n",
        "print(\"Accuracy=\", accuracy_score(np.array(classes)[y_pred_Bayesian], y_val))"
      ],
      "execution_count": 44,
      "outputs": [
        {
          "output_type": "stream",
          "name": "stdout",
          "text": [
            "Accuracy= 0.9266666666666666\n"
          ]
        }
      ]
    },
    {
      "cell_type": "markdown",
      "metadata": {
        "id": "G31SnW6rjlIs"
      },
      "source": [
        "## Selecting different instances"
      ]
    },
    {
      "cell_type": "code",
      "metadata": {
        "id": "CvxjLnytjlIs"
      },
      "source": [
        "y_predB=[]\n",
        "\n",
        "for i in range(X_valv.shape[0]):\n",
        "    #print(i)\n",
        "    val=[]\n",
        "\n",
        "    for s in range(posterior['beta'].shape[0]):\n",
        "        beta = np.hstack([np.zeros((nf,1)),  posterior['beta'][s,:] ])\n",
        "        alpha = np.hstack([[0],  posterior['alpha'][s,:] ])\n",
        "        val.append(softmax((np.array([X_valv[i,:].dot(beta) + alpha])))[0,:])\n",
        "\n",
        "    #mean probability\n",
        "    valmean = np.mean(val,axis=0)\n",
        "    #class with maximum mean probability\n",
        "    classmax = np.argmax(valmean)\n",
        "    #ranks\n",
        "    ranks = np.array(val.copy())\n",
        "    ranks   = ranks  *0 #init\n",
        "    colmax = np.argmax(np.array(val),axis=1)\n",
        "    ranks[np.arange(0,len(colmax)),colmax]=1\n",
        "     \n",
        "    y_predB.append( [classmax, valmean[classmax], np.std(ranks,axis=0)[classmax]])\n",
        "\n",
        "    \n",
        "y_predB= np.array(y_predB)"
      ],
      "execution_count": 45,
      "outputs": []
    },
    {
      "cell_type": "code",
      "metadata": {
        "id": "RnEeHwFPjlIs",
        "colab": {
          "base_uri": "https://localhost:8080/"
        },
        "outputId": "c42f6783-474c-439a-9f96-1732a98f8338"
      },
      "source": [
        "# prediction array\n",
        "mm = 10\n",
        "y_predB[0:mm,:]"
      ],
      "execution_count": 46,
      "outputs": [
        {
          "output_type": "execute_result",
          "data": {
            "text/plain": [
              "array([[0.        , 0.91174912, 0.23120458],\n",
              "       [1.        , 0.92331094, 0.25514702],\n",
              "       [1.        , 0.99998158, 0.        ],\n",
              "       [2.        , 0.9926083 , 0.        ],\n",
              "       [1.        , 0.89505697, 0.3       ],\n",
              "       [1.        , 0.73616943, 0.43107102],\n",
              "       [0.        , 0.80528553, 0.372678  ],\n",
              "       [0.        , 0.86769511, 0.30439375],\n",
              "       [0.        , 0.96641311, 0.17058722],\n",
              "       [0.        , 0.94925332, 0.18794207]])"
            ]
          },
          "metadata": {},
          "execution_count": 46
        }
      ]
    },
    {
      "cell_type": "code",
      "metadata": {
        "id": "bgwzPtDWjlIt",
        "colab": {
          "base_uri": "https://localhost:8080/"
        },
        "outputId": "f15c1520-6a51-47f1-eaeb-39b45703e333"
      },
      "source": [
        "#sorting in descending order\n",
        "difficult = np.argsort(-y_predB[:,2])\n",
        "y_predB[difficult[0:mm],:]"
      ],
      "execution_count": 47,
      "outputs": [
        {
          "output_type": "execute_result",
          "data": {
            "text/plain": [
              "array([[1.        , 0.51291567, 0.5       ],\n",
              "       [1.        , 0.50057571, 0.49998889],\n",
              "       [1.        , 0.49780724, 0.49998889],\n",
              "       [0.        , 0.50205181, 0.49998889],\n",
              "       [1.        , 0.48779378, 0.49998889],\n",
              "       [0.        , 0.48405555, 0.49998889],\n",
              "       [2.        , 0.51249572, 0.49995555],\n",
              "       [2.        , 0.51156713, 0.49995555],\n",
              "       [1.        , 0.50397874, 0.49995555],\n",
              "       [0.        , 0.47999989, 0.49995555]])"
            ]
          },
          "metadata": {},
          "execution_count": 47
        }
      ]
    },
    {
      "cell_type": "markdown",
      "metadata": {
        "id": "_JbeOJ7fj90P"
      },
      "source": [
        "To try and differentiate 'easy' and 'difficult' images based off the results of the Bayesian approach, the existing standard deviation information will be used to define a threshold.\n",
        "\n",
        "The images were classified as 'difficult' based on decreasing values of standard deviation. A threshold value of 0.4 was arbitrarily chosen as it resulted in a mean probability of 0.75 or over.\n",
        "\n",
        "The array index where the first instance of an image having standard deviation of 0.4 or less was found as follows."
      ]
    },
    {
      "cell_type": "code",
      "metadata": {
        "colab": {
          "base_uri": "https://localhost:8080/"
        },
        "id": "apm2S84c7gfM",
        "outputId": "8f5f3c73-f69d-4036-d204-efab58dec474"
      },
      "source": [
        "# Initialisations.\n",
        "row_list = []\n",
        "row_counter = 0\n",
        "\n",
        "threshold = 0.4    # std dev.\n",
        "\n",
        "# Expecting 3 classes.\n",
        "for each_class in y_predB[difficult[:],0]:\n",
        "\n",
        "  if(each_class==0):\n",
        "    if(y_predB[difficult[row_counter],2])<threshold:\n",
        "      row_list.append(row_counter)\n",
        "  elif(each_class==1):\n",
        "    if(y_predB[difficult[row_counter],2])<threshold:\n",
        "      row_list.append(row_counter)\n",
        "  elif(each_class==2):\n",
        "    if(y_predB[difficult[row_counter],2])<threshold:\n",
        "      row_list.append(row_counter)\n",
        "\n",
        "  row_counter += 1\n",
        "\n",
        "first_index_below_threshold = min(row_list)\n",
        "difficult[first_index_below_threshold]"
      ],
      "execution_count": 48,
      "outputs": [
        {
          "output_type": "execute_result",
          "data": {
            "text/plain": [
              "718"
            ]
          },
          "metadata": {},
          "execution_count": 48
        }
      ]
    },
    {
      "cell_type": "code",
      "metadata": {
        "id": "aGtaG6rDjlIt",
        "colab": {
          "base_uri": "https://localhost:8080/"
        },
        "outputId": "d630b57b-5cef-468c-a288-0074794ce96f"
      },
      "source": [
        "#probability of general-recipe logistic regression in wrong instances\n",
        "prob_classmax[y_pred_logi != y_val]"
      ],
      "execution_count": 49,
      "outputs": [
        {
          "output_type": "execute_result",
          "data": {
            "text/plain": [
              "array([0.99744985, 0.52198065, 0.99966378, 0.86669845, 0.97683286,\n",
              "       0.87065449, 0.99787179, 0.5057352 , 0.98862742, 0.90960885,\n",
              "       0.99999999, 0.99474148, 0.7824442 , 0.99333234, 0.98671087,\n",
              "       0.91243323, 0.88963716, 0.99922409, 1.        , 0.99998343,\n",
              "       0.82583129])"
            ]
          },
          "metadata": {},
          "execution_count": 49
        }
      ]
    },
    {
      "cell_type": "code",
      "metadata": {
        "id": "iLVDYSdejlIt",
        "colab": {
          "base_uri": "https://localhost:8080/"
        },
        "outputId": "b58c4668-b251-4020-80b7-c227bd15d70c"
      },
      "source": [
        "y_predB[y_pred_logi != y_val,:]"
      ],
      "execution_count": 50,
      "outputs": [
        {
          "output_type": "execute_result",
          "data": {
            "text/plain": [
              "array([[1.        , 0.73616943, 0.43107102],\n",
              "       [2.        , 0.65403225, 0.4689942 ],\n",
              "       [1.        , 0.48564117, 0.49972215],\n",
              "       [2.        , 0.87683236, 0.30439375],\n",
              "       [2.        , 0.54644874, 0.49677851],\n",
              "       [1.        , 0.71496412, 0.45220448],\n",
              "       [0.        , 0.57660672, 0.49056657],\n",
              "       [1.        , 0.92151678, 0.26606181],\n",
              "       [1.        , 0.55467483, 0.49749372],\n",
              "       [2.        , 0.75456355, 0.42503595],\n",
              "       [1.        , 0.8833007 , 0.31288976],\n",
              "       [2.        , 0.66197916, 0.47021272],\n",
              "       [2.        , 0.42385198, 0.49597267],\n",
              "       [2.        , 0.99905433, 0.        ],\n",
              "       [1.        , 0.93149308, 0.24944383],\n",
              "       [0.        , 0.75841274, 0.42708313],\n",
              "       [2.        , 0.65060388, 0.47370877],\n",
              "       [2.        , 0.69793033, 0.4567883 ],\n",
              "       [2.        , 0.99941926, 0.        ],\n",
              "       [2.        , 0.99474787, 0.        ],\n",
              "       [0.        , 0.61777796, 0.48189441]])"
            ]
          },
          "metadata": {},
          "execution_count": 50
        }
      ]
    },
    {
      "cell_type": "code",
      "metadata": {
        "id": "-ZstODCDjlIt",
        "colab": {
          "base_uri": "https://localhost:8080/"
        },
        "outputId": "88261b5c-9549-47f8-fb61-7a67ef2d8015"
      },
      "source": [
        "## Difficult & easy instances\n",
        "\n",
        "easy = np.argsort(y_predB[:,2])\n",
        "print(\"Accuracy in easy instances =\", accuracy_score(y_pred_logi[easy[0:100]], y_val[easy[0:100]]))\n",
        "\n",
        "difficult = np.argsort(-y_predB[:,2])\n",
        "print(\"Accuracy in difficult instances =\", accuracy_score(y_pred_logi[difficult[0:100]], y_val[difficult[0:100]]))"
      ],
      "execution_count": 51,
      "outputs": [
        {
          "output_type": "stream",
          "name": "stdout",
          "text": [
            "Accuracy in easy instances = 0.97\n",
            "Accuracy in difficult instances = 0.93\n"
          ]
        }
      ]
    },
    {
      "cell_type": "code",
      "metadata": {
        "id": "U_i_0Kr9jlIt",
        "colab": {
          "base_uri": "https://localhost:8080/",
          "height": 357
        },
        "outputId": "a08de46a-95b1-4901-86ba-331184ad23cf"
      },
      "source": [
        "# show 10 random 'easy' images\n",
        "fig, axs = plt.subplots(2,5, figsize=(15, 6))\n",
        "fig.subplots_adjust(hspace = .2, wspace=.001)\n",
        "axs = axs.ravel()\n",
        "\n",
        "for i in range(10):\n",
        "    index = easy[i]\n",
        "    \n",
        "    #image = X_valv[index,:].reshape(32,32)\n",
        "    image = X_valv[index,:].reshape(28,28)\n",
        "    \n",
        "    axs[i].axis('off')\n",
        "    axs[i].imshow(image,cmap=\"Greys_r\")\n",
        "    "
      ],
      "execution_count": 52,
      "outputs": [
        {
          "output_type": "display_data",
          "data": {
            "image/png": "[encoded data removed]",
            "text/plain": [
              "<Figure size 1080x432 with 10 Axes>"
            ]
          },
          "metadata": {
            "needs_background": "light"
          }
        }
      ]
    },
    {
      "cell_type": "code",
      "metadata": {
        "id": "xR2sxXDYjlIu",
        "colab": {
          "base_uri": "https://localhost:8080/",
          "height": 357
        },
        "outputId": "0bbc0a01-729a-4d9a-efee-32a7549082bd"
      },
      "source": [
        "\n",
        "# show 10 random 'difficult' images\n",
        "fig, axs = plt.subplots(2,5, figsize=(15, 6))\n",
        "fig.subplots_adjust(hspace = .2, wspace=.001)\n",
        "axs = axs.ravel()\n",
        "for i in range(10):\n",
        "    index = difficult[i]\n",
        "    \n",
        "    #image = X_valv[index,:].reshape(32,32)\n",
        "    image = X_valv[index,:].reshape(28,28)\n",
        "\n",
        "    axs[i].axis('off')\n",
        "    axs[i].imshow(image,cmap=\"Greys_r\")\n",
        "    "
      ],
      "execution_count": 53,
      "outputs": [
        {
          "output_type": "display_data",
          "data": {
            "image/png": "[encoded data removed]",
            "text/plain": [
              "<Figure size 1080x432 with 10 Axes>"
            ]
          },
          "metadata": {
            "needs_background": "light"
          }
        }
      ]
    },
    {
      "cell_type": "markdown",
      "metadata": {
        "id": "cMiQgBSklI_M"
      },
      "source": [
        "The test set that was set aside at the very start of the notebook was checked with the general recipe logistic regression model."
      ]
    },
    {
      "cell_type": "code",
      "metadata": {
        "id": "FxPiFkSiL2Jf"
      },
      "source": [
        "# DEBUG\n",
        "# X_test.shape\n",
        "# y_test.shape\n",
        "# y_pred_logi_test.shape"
      ],
      "execution_count": 57,
      "outputs": []
    },
    {
      "cell_type": "markdown",
      "metadata": {
        "id": "wleF84Xm1ohv"
      },
      "source": [
        "Create a subset of the X_test and y_test arrays that contain the classes of interest to allow the test set values be checked for accuracy against the general-recipe logistic regression model."
      ]
    },
    {
      "cell_type": "code",
      "metadata": {
        "colab": {
          "base_uri": "https://localhost:8080/"
        },
        "id": "c1txTVVEqNzf",
        "outputId": "d99f34f5-fd96-4103-9d52-ca02ab827f38"
      },
      "source": [
        "X_test_subset = np.array([])\n",
        "y_test_subset = np.array([])\n",
        "\n",
        "for each_element in y_test:\n",
        "\n",
        "  if ((each_element == classes[0]) or (each_element == classes[1]) or (each_element == classes[2])):\n",
        "\n",
        "    if (y_test_subset.size == 0):\n",
        "      y_test_subset = y_test[each_element].copy()\n",
        "      X_test_subset = X_test[each_element, :].copy()\n",
        "\n",
        "    else:\n",
        "      y_test_subset = np.hstack((y_test_subset, y_test[each_element]))\n",
        "      X_test_subset = np.vstack((X_test_subset, X_test[each_element, :]))\n",
        "\n",
        "print('X_test_subset.shape: ', X_test_subset.shape, '\\ny_test_subset.shape: ', y_test_subset.shape)"
      ],
      "execution_count": 115,
      "outputs": [
        {
          "output_type": "stream",
          "name": "stdout",
          "text": [
            "X_test_subset.shape:  (3125, 784) \n",
            "y_test_subset.shape:  (3125,)\n"
          ]
        }
      ]
    },
    {
      "cell_type": "code",
      "metadata": {
        "colab": {
          "base_uri": "https://localhost:8080/"
        },
        "id": "UACygwvkLNvQ",
        "outputId": "5386c643-8d8d-4b89-ec51-89f504ae7ea9"
      },
      "source": [
        "# y_pred_logi_test = model_log.predict(X_test)\n",
        "# accuracy_score(y_pred_logi_test, y_test)\n",
        "\n",
        "\n",
        "y_pred_logi_test = model_log.predict(X_test_subset)\n",
        "accuracy_score(y_pred_logi_test, y_test_subset)\n"
      ],
      "execution_count": 116,
      "outputs": [
        {
          "output_type": "execute_result",
          "data": {
            "text/plain": [
              "0.69344"
            ]
          },
          "metadata": {},
          "execution_count": 116
        }
      ]
    },
    {
      "cell_type": "markdown",
      "metadata": {
        "id": "Kz1hJKElljP5"
      },
      "source": [
        "The accuracy of the general recipe multinomial logistic regression model on the validation set was then also re-tried with the images that were considered 'difficult' being removed i.e. only using the images that were not deemed 'difficult'."
      ]
    },
    {
      "cell_type": "code",
      "metadata": {
        "colab": {
          "base_uri": "https://localhost:8080/"
        },
        "id": "eZl-LkoDHNkA",
        "outputId": "5d9d18c6-6145-408c-c92d-1c19d5a4136c"
      },
      "source": [
        "y_pred_logi2 = model_log.predict(X_valv[difficult[(first_index_below_threshold):]])\n",
        "y_val2 = y_val[difficult[(first_index_below_threshold):]]\n",
        "\n",
        "accuracy_score(y_pred_logi2, y_val2)"
      ],
      "execution_count": 117,
      "outputs": [
        {
          "output_type": "execute_result",
          "data": {
            "text/plain": [
              "0.9899135446685879"
            ]
          },
          "metadata": {},
          "execution_count": 117
        }
      ]
    },
    {
      "cell_type": "markdown",
      "metadata": {
        "id": "NcshsLOGRPrk"
      },
      "source": [
        "# **Summary:**"
      ]
    },
    {
      "cell_type": "markdown",
      "metadata": {
        "id": "qJjockzhoc8K"
      },
      "source": [
        "The Google Colab environment was used to work with Etivity 1 because when I initially tried using Jupyter Notebooks, the runtime was excessively long and it was difficult to make progress.\n",
        "\n",
        "There is however code in place to detect whether Google Colab or Jupyter Notebooks is in use and that influences where the 'Path' directory is pointed to.\n",
        "\n",
        "The Lab1 notebook was referenced when initially attempting this Etivity and I have stuck very close to the approach displayed there. \n",
        "\n",
        "### <b>Approach and observations:</b>\n",
        "\n",
        "There can be run-to-run variation of results so the figures quoted below were all recorded for a single run for the purposes of providing an example to discuss.\n",
        "\n",
        "*   <b>1500 instances</b> were used from each class for each of the 3 digits.\n",
        "*   I stuck with the <b>accuracy metric</b> used in the lab example notebook.    \n",
        "    * If I had more time, it may be worth investigating other classification metrics such as precision, recall, F1-score, ROC plots, PR curves, etc. to see how they vary. ROC, PR & PRG curves may be more appropriate for probabilistic models (Lukány 2020).\n",
        "*   The <b>general recipe LogisticRegression</b> approach achieved an accuracy of about <b>0.976</b> on the <b>validation set</b> initially.\n",
        "*   The <b>probabilistic/Bayesian ML</b> approach claimed an accuracy of about <b>0.918</b> on the <b>validation set</b>.\n",
        "    * The accuracy on the <b>'easy'</b> instances = <b>0.98</b> \n",
        "    * The accuracy on the <b>'difficult'</b> instances = <b>0.91</b>\n",
        "*   When the <b>general recipe LogisticRegression</b> approach was tried on the <b>test set</b> that was set aside at the very start of the notebook, the accuracy was quite poor i.e. <b>0.693</b>.\n",
        "    * The general recipe logistic regression model may be overfitting the training data somewhat i.e. not generalising as well on new data.\n",
        "*   When the <b>general recipe logistic regression model</b> was tried again on the <b>validation set</b> with <b>'difficult'</b> images removed, the accuracy improved to <b>0.9915</b>.\n",
        "\n",
        "### <b>Theory:</b>\n",
        "\n",
        "My understanding of the purpose of the Etivity is to demonstrate that the general recipe multinomial logistic regression approach can suffer from <b>overfitting</b> the training data and therefore not <b>generalise</b> well on new/test data.\n",
        "\n",
        "The probabilistic/Bayesian multinomial logistic regression approach has the advantage of dealing with 'uncertainty'. The approach makes use of Bayes theorem as follows:\n",
        "*   Bayes theorem enables the use of a <b>‘prior’</b> which is essentially previous knowledge/belief of an event. The prior can be an educated guess based on past experience or based on available data. A prior distribution (as opposed to a single prior probability) can be more appropriate if there is uncertainty in the prior belief (Brooks-Bartlett 2018). \n",
        "*   The <b>‘likelihood’</b> distribution relates to the probability of some data given a set of parameters (Brownlee 2019).\n",
        "*   The <b>‘marginal likelihood’/‘evidence’</b> is a number which acts as a normalizing constant (Brooks-Bartlett 2018).\n",
        "*   The <b>‘posterior’</b> distribution represents the probability of parameter values after the observed data has been factored in. \n",
        "*   The <b>MAP (maximum a posteriori probability)</b> estimate can be used to calculate a value for a desired parameter. In the case of Gaussian distributions, the mean is the same value as the mode.\n",
        "*   When new data is made available, the existing posterior can become the new prior, a new likelihood can be calculated from the new data and then a new posterior can be calculated. This highlights the <b>iterative nature of Bayesian inference</b> i.e. beliefs can be updated when new data is available.\n",
        "*   The key advantage the Bayesian approach has versus traditional logistic regression is that the problem of overfitting the model to the data is combatted by the use of priors. The prior can be viewed as a <b>regularization</b> term. The prior distribution can be “narrowed” / made less spread in contrast to the likelihood distribution – this will have the effect of making the posterior distribution closer to the prior distribution. This will allow the model to generalize better and <b>deal with uncertainty in a more effective way</b>."
      ]
    },
    {
      "cell_type": "markdown",
      "metadata": {
        "id": "wlgieyOHBpHG"
      },
      "source": [
        "# **References (Harvard UL):**\n",
        "\n",
        "\n",
        "Brooks-Bartlett, J. (2018) <i>Probability concepts explained: Bayesian inference for parameter estimation</i>, towards data science, available: https://towardsdatascience.com/probability-concepts-explained-bayesian-inference-for-parameter-estimation-90e8930e5348 [accessed 19 September 2021].\n"
      ]
    },
    {
      "cell_type": "markdown",
      "metadata": {
        "id": "ZVzGFU0F2PlS"
      },
      "source": [
        "Brownlee, J. (2019) <i>A Gentle Introduction to Bayes Theorem for Machine Learning</i>, Machine Learning Mastery, available: https://machinelearningmastery.com/bayes-theorem-for-machine-learning/ [accessed 19 September 2021].\n",
        "\n",
        "\n"
      ]
    },
    {
      "cell_type": "markdown",
      "metadata": {
        "id": "-d4tchc_2S3U"
      },
      "source": [
        "Lukány, J. (2020) <i>Evaluating Probabilistic Classifier: ROC and PR(G) Curves</i>, Medium, available: https://medium.com/knowledge-engineering-seminar/evaluating-probabilistic-classifier-roc-and-pr-g-curves-6647c3379d60 [accessed 19 September 2021]."
      ]
    },
    {
      "cell_type": "code",
      "metadata": {
        "id": "j-q0lJEZ2HDk"
      },
      "source": [
        ""
      ],
      "execution_count": null,
      "outputs": []
    }
  ]
}